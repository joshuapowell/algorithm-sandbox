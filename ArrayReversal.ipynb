{
 "cells": [
  {
   "cell_type": "code",
   "execution_count": 27,
   "metadata": {},
   "outputs": [
    {
     "name": "stdout",
     "output_type": "stream",
     "text": [
      "2 3 4 1\n"
     ]
    }
   ],
   "source": [
    "array = [1, 4, 3, 2]\n",
    "\n",
    "def reverseArray(a):\n",
    "        \n",
    "    return_value = \"\"\n",
    "    \n",
    "    a.reverse()\n",
    "    \n",
    "    for item_ in a:\n",
    "        return_value = return_value + \" \" + str(item_) if return_value != \"\" else str(item_)\n",
    "\n",
    "    return return_value\n",
    "\n",
    "print(\"%s\" % reverseArray(array))"
   ]
  },
  {
   "cell_type": "code",
   "execution_count": 44,
   "metadata": {},
   "outputs": [
    {
     "name": "stdout",
     "output_type": "stream",
     "text": [
      "[2, 3, 4, 1]\n"
     ]
    }
   ],
   "source": [
    "array = [1, 4, 3, 2]\n",
    "\n",
    "tmp = []\n",
    "                \n",
    "while len(array):\n",
    "            \n",
    "    tmp.append(array.pop())\n",
    "\n",
    "print(tmp)"
   ]
  }
 ],
 "metadata": {
  "kernelspec": {
   "display_name": "Python 3",
   "language": "python",
   "name": "python3"
  },
  "language_info": {
   "codemirror_mode": {
    "name": "ipython",
    "version": 3
   },
   "file_extension": ".py",
   "mimetype": "text/x-python",
   "name": "python",
   "nbconvert_exporter": "python",
   "pygments_lexer": "ipython3",
   "version": "3.7.2"
  }
 },
 "nbformat": 4,
 "nbformat_minor": 2
}
