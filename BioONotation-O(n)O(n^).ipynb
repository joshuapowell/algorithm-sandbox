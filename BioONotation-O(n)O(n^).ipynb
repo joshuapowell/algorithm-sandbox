{
 "cells": [
  {
   "cell_type": "code",
   "execution_count": 23,
   "metadata": {},
   "outputs": [
    {
     "name": "stderr",
     "output_type": "stream",
     "text": [
      "test_compareAll1 (__main__.TestNotebook) ... ok\n",
      "test_compareAll2 (__main__.TestNotebook) ... ok\n",
      "test_compareAll3 (__main__.TestNotebook) ... ok\n",
      "test_compareLinear (__main__.TestNotebook) ... ok\n",
      "test_compareLinear2 (__main__.TestNotebook) ... ok\n",
      "test_compareLinear3 (__main__.TestNotebook) ... "
     ]
    },
    {
     "name": "stdout",
     "output_type": "stream",
     "text": [
      "minimum_number_in_list 5\n",
      "minimum_number_in_list 4\n",
      "minimum_number_in_list 2\n",
      "minimum_number_in_list 1\n",
      "minimum_number_in_list 0\n",
      "compareAll equals 0\n",
      "minimum_number_in_list 482\n",
      "minimum_number_in_list 482\n",
      "minimum_number_in_list 482\n",
      "minimum_number_in_list 482\n",
      "minimum_number_in_list 482\n",
      "minimum_number_in_list 482\n",
      "compareAll equals 482\n",
      "minimum_number_in_list 19247\n",
      "minimum_number_in_list 19247\n",
      "minimum_number_in_list 19247\n",
      "minimum_number_in_list 1903\n",
      "minimum_number_in_list 13\n",
      "minimum_number_in_list 13\n",
      "compareAll equals 13\n",
      "Linear equals 0\n",
      "Linear equals 482\n",
      "Linear equals 13\n"
     ]
    },
    {
     "name": "stderr",
     "output_type": "stream",
     "text": [
      "ok\n",
      "\n",
      "----------------------------------------------------------------------\n",
      "Ran 6 tests in 0.006s\n",
      "\n",
      "OK\n"
     ]
    },
    {
     "data": {
      "text/plain": [
       "<unittest.main.TestProgram at 0x10cf6eef0>"
      ]
     },
     "execution_count": 23,
     "metadata": {},
     "output_type": "execute_result"
    }
   ],
   "source": [
    "\"\"\"\n",
    "Write two Python functions to find the minimum number in a list. \n",
    "The first function should compare each number to every other number \n",
    "on the list. O(n2). The second function should be linear O(n).\n",
    "\"\"\"\n",
    "import unittest\n",
    "\n",
    "data = [5,4,2,1,0]\n",
    "\n",
    "def compareAll(data_list):\n",
    "    \n",
    "    # Set a placeholder to hold the lowest, known number\n",
    "    minimum_number_in_list = None\n",
    "    \n",
    "    # Loop over the data list to check each number\n",
    "    for current_number in data_list:\n",
    "        \n",
    "        # If minimum_number_in_list is not set, then set the current number as minimum_number_in_list\n",
    "        if minimum_number_in_list == None:\n",
    "            minimum_number_in_list = current_number\n",
    "        else:\n",
    "            # Loop a second time to check the item_a number to the current number\n",
    "            for list_number in data_list:\n",
    "\n",
    "                # if the current number is > the number set in minimum_number_in_list...\n",
    "                if current_number < minimum_number_in_list and current_number < list_number:\n",
    "                    # set curernt number to minimum_number_in_list\n",
    "                    minimum_number_in_list = current_number\n",
    "        \n",
    "        # Display the curernt minimum_number_in_list for this iteration\n",
    "        print(\"minimum_number_in_list %s\" % minimum_number_in_list)\n",
    "\n",
    "    return minimum_number_in_list\n",
    "\n",
    "def compareLinear(data_list):\n",
    "    data_list.sort()\n",
    "    return data_list[0]\n",
    "\n",
    "class TestNotebook(unittest.TestCase):\n",
    "\n",
    "    def test_compareAll1(self):\n",
    "        compare_val = compareAll(data)\n",
    "        print(\"compareAll equals %s\" % compare_val)\n",
    "        self.assertEqual(compare_val, 0)\n",
    "\n",
    "    def test_compareAll2(self):\n",
    "        compare_val = compareAll([482,82894972,91723484,19283781,9288,567])\n",
    "        print(\"compareAll equals %s\" % compare_val)\n",
    "        self.assertEqual(compare_val, 482)\n",
    "\n",
    "    def test_compareAll3(self):\n",
    "        compare_val = compareAll([19247,87163,19827,1903,13,182734])\n",
    "        print(\"compareAll equals %s\" % compare_val)\n",
    "        self.assertEqual(compare_val, 13)\n",
    "        \n",
    "    def test_compareLinear(self):\n",
    "        linear = compareLinear(data)\n",
    "        print(\"Linear equals %s\" % linear)\n",
    "        self.assertEqual(linear, 0)\n",
    "\n",
    "    def test_compareLinear2(self):\n",
    "        linear = compareLinear([482,82894972,91723484,19283781,9288,567])\n",
    "        print(\"Linear equals %s\" % linear)\n",
    "        self.assertEqual(linear, 482)\n",
    "\n",
    "    def test_compareLinear3(self):\n",
    "        linear = compareLinear([19247,87163,19827,1903,13,182734])\n",
    "        print(\"Linear equals %s\" % linear)\n",
    "        self.assertEqual(linear, 13)\n",
    "\n",
    "unittest.main(argv=[''], verbosity=2, exit=False)"
   ]
  },
  {
   "cell_type": "code",
   "execution_count": null,
   "metadata": {},
   "outputs": [],
   "source": []
  }
 ],
 "metadata": {
  "kernelspec": {
   "display_name": "Python 3",
   "language": "python",
   "name": "python3"
  },
  "language_info": {
   "codemirror_mode": {
    "name": "ipython",
    "version": 3
   },
   "file_extension": ".py",
   "mimetype": "text/x-python",
   "name": "python",
   "nbconvert_exporter": "python",
   "pygments_lexer": "ipython3",
   "version": "3.7.2"
  }
 },
 "nbformat": 4,
 "nbformat_minor": 2
}
