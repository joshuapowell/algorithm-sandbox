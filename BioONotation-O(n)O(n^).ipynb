{
 "cells": [
  {
   "cell_type": "code",
   "execution_count": 18,
   "metadata": {},
   "outputs": [
    {
     "name": "stderr",
     "output_type": "stream",
     "text": [
      "test_compareAll (__main__.TestNotebook) ... ok\n",
      "test_compareLinear (__main__.TestNotebook) ... "
     ]
    },
    {
     "name": "stdout",
     "output_type": "stream",
     "text": [
      "minimum_number_in_list 5\n",
      "minimum_number_in_list 4\n",
      "minimum_number_in_list 2\n",
      "minimum_number_in_list 1\n",
      "minimum_number_in_list 0\n",
      "compareAll equals 0\n",
      "Linear equals 0\n"
     ]
    },
    {
     "name": "stderr",
     "output_type": "stream",
     "text": [
      "ok\n",
      "\n",
      "----------------------------------------------------------------------\n",
      "Ran 2 tests in 0.002s\n",
      "\n",
      "OK\n"
     ]
    },
    {
     "data": {
      "text/plain": [
       "<unittest.main.TestProgram at 0x10cf4a6a0>"
      ]
     },
     "execution_count": 18,
     "metadata": {},
     "output_type": "execute_result"
    }
   ],
   "source": [
    "\"\"\"\n",
    "Write two Python functions to find the minimum number in a list. \n",
    "The first function should compare each number to every other number \n",
    "on the list. O(n2). The second function should be linear O(n).\n",
    "\"\"\"\n",
    "import unittest\n",
    "\n",
    "data = [5,4,2,1,0]\n",
    "\n",
    "def compareAll(data_list):\n",
    "    \n",
    "    # Set a placeholder to hold the lowest, known number\n",
    "    minimum_number_in_list = None\n",
    "    \n",
    "    # Loop over the data list to check each number\n",
    "    for current_number in data_list:\n",
    "        \n",
    "        # If minimum_number_in_list is not set, then set the current number as minimum_number_in_list\n",
    "        if minimum_number_in_list == None:\n",
    "            minimum_number_in_list = current_number\n",
    "        else:\n",
    "            # Loop a second time to check the item_a number to the current number\n",
    "            for list_number in data_list:\n",
    "\n",
    "                # if the current number is > the number set in minimum_number_in_list...\n",
    "                if current_number < minimum_number_in_list and current_number < list_number:\n",
    "                    # set curernt number to minimum_number_in_list\n",
    "                    minimum_number_in_list = current_number\n",
    "        \n",
    "        # Display the curernt minimum_number_in_list for this iteration\n",
    "        print(\"minimum_number_in_list %s\" % minimum_number_in_list)\n",
    "\n",
    "    return minimum_number_in_list\n",
    "\n",
    "def compareLinear(data_list):\n",
    "    data_list.sort()\n",
    "    return data_list[0]\n",
    "\n",
    "class TestNotebook(unittest.TestCase):\n",
    "\n",
    "    def test_compareAll(self):\n",
    "        compare_val = compareAll(data)\n",
    "        print(\"compareAll equals %s\" % compare_val)\n",
    "        self.assertEqual(compare_val, 0)\n",
    "\n",
    "    def test_compareLinear(self):\n",
    "        linear = compareLinear(data)\n",
    "        print(\"Linear equals %s\" % linear)\n",
    "        self.assertEqual(linear, 0)\n",
    "\n",
    "unittest.main(argv=[''], verbosity=2, exit=False)"
   ]
  },
  {
   "cell_type": "code",
   "execution_count": null,
   "metadata": {},
   "outputs": [],
   "source": []
  }
 ],
 "metadata": {
  "kernelspec": {
   "display_name": "Python 3",
   "language": "python",
   "name": "python3"
  },
  "language_info": {
   "codemirror_mode": {
    "name": "ipython",
    "version": 3
   },
   "file_extension": ".py",
   "mimetype": "text/x-python",
   "name": "python",
   "nbconvert_exporter": "python",
   "pygments_lexer": "ipython3",
   "version": "3.7.2"
  }
 },
 "nbformat": 4,
 "nbformat_minor": 2
}
