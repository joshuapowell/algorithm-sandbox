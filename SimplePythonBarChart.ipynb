{
 "cells": [
  {
   "cell_type": "code",
   "execution_count": 2,
   "metadata": {
    "scrolled": true
   },
   "outputs": [
    {
     "name": "stdout",
     "output_type": "stream",
     "text": [
      "2000 ||\n",
      "2001 |||||||||\n",
      "2002 ||||||||||\n",
      "2003 |||||||||\n",
      "2004 ||||||||||||||\n",
      "2005 |||||||||||\n",
      "2006 ||||||||\n",
      "2007 ||||||||||\n",
      "2008 ||||||||||||||\n",
      "2009 |||||||||||||||||||\n",
      "2010 ||||||||||||||||\n",
      "2011 |||||||||||||||||\n"
     ]
    }
   ],
   "source": [
    "\"\"\"\n",
    "Create a chart from CSV\n",
    "\"\"\"\n",
    "\n",
    "years = {2000: 2, 2001: 9, 2002: 10, 2003: 9, 2004: 14, 2005: 11, 2006: 8, 2007: 10, 2008: 14, 2009: 19, 2010: 16, 2011: 17}\n",
    "\n",
    "for y in years:\n",
    "    print(y, years[y]*'|')"
   ]
  },
  {
   "cell_type": "code",
   "execution_count": null,
   "metadata": {},
   "outputs": [],
   "source": []
  }
 ],
 "metadata": {
  "kernelspec": {
   "display_name": "Python 3",
   "language": "python",
   "name": "python3"
  },
  "language_info": {
   "codemirror_mode": {
    "name": "ipython",
    "version": 3
   },
   "file_extension": ".py",
   "mimetype": "text/x-python",
   "name": "python",
   "nbconvert_exporter": "python",
   "pygments_lexer": "ipython3",
   "version": "3.7.2"
  }
 },
 "nbformat": 4,
 "nbformat_minor": 2
}
