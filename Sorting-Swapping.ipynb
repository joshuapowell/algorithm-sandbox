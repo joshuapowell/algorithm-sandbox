{
 "cells": [
  {
   "cell_type": "code",
   "execution_count": 9,
   "metadata": {},
   "outputs": [
    {
     "name": "stdout",
     "output_type": "stream",
     "text": [
      "['aardvark', 'antelope', 'gnu', 'iguana', 'yak', 'zebra']\n"
     ]
    }
   ],
   "source": [
    "\"\"\"Sorting.\"\"\"\n",
    "\n",
    "animals = [\"gnu\", \"zebra\", \"antelope\", \"aardvark\", \"yak\", \"iguana\"]\n",
    "\n",
    "animals.sort()\n",
    "\n",
    "print(animals)"
   ]
  },
  {
   "cell_type": "code",
   "execution_count": 39,
   "metadata": {},
   "outputs": [
    {
     "name": "stderr",
     "output_type": "stream",
     "text": [
      "test_swapCheckOne (__main__.TestNotebook) ... ok\n",
      "test_swapCheckThree (__main__.TestNotebook) ... ok\n",
      "test_swapCheckTwo (__main__.TestNotebook) ... "
     ]
    },
    {
     "name": "stdout",
     "output_type": "stream",
     "text": [
      "[9, 7, 4]\n",
      "[4, 7, 9]\n",
      "[7, 4, 9]\n"
     ]
    },
    {
     "name": "stderr",
     "output_type": "stream",
     "text": [
      "ok\n",
      "\n",
      "----------------------------------------------------------------------\n",
      "Ran 3 tests in 0.003s\n",
      "\n",
      "OK\n"
     ]
    },
    {
     "data": {
      "text/plain": [
       "<unittest.main.TestProgram at 0x10748ae10>"
      ]
     },
     "execution_count": 39,
     "metadata": {},
     "output_type": "execute_result"
    }
   ],
   "source": [
    "import unittest\n",
    "\n",
    "\"\"\"Swapping.\"\"\"\n",
    "def swap(array, firstIndex, secondIndex):\n",
    "    temp = array[firstIndex]\n",
    "    array[firstIndex] = array[secondIndex]\n",
    "    array[secondIndex] = temp\n",
    "\n",
    "testArray = [7, 9, 4]\n",
    "\n",
    "class TestNotebook(unittest.TestCase):\n",
    "\n",
    "    def test_swapCheckOne(self):\n",
    "        testArray = [7, 9, 4]\n",
    "        swap(testArray, 0, 1);\n",
    "        print(testArray);\n",
    "        self.assertEqual(testArray, [9, 7, 4])\n",
    "\n",
    "    def test_swapCheckTwo(self):\n",
    "        testArray = [7, 9, 4]\n",
    "        swap(testArray, 1, 2);\n",
    "        print(testArray);\n",
    "        self.assertEqual(testArray, [7, 4, 9])\n",
    "\n",
    "    def test_swapCheckThree(self):\n",
    "        testArray = [7, 4, 9]\n",
    "        swap(testArray, 0, 1);\n",
    "        print(testArray);\n",
    "        self.assertEqual(testArray, [4, 7, 9])\n",
    "        \n",
    "unittest.main(argv=[''], verbosity=2, exit=False)"
   ]
  }
 ],
 "metadata": {
  "kernelspec": {
   "display_name": "Python 3",
   "language": "python",
   "name": "python3"
  },
  "language_info": {
   "codemirror_mode": {
    "name": "ipython",
    "version": 3
   },
   "file_extension": ".py",
   "mimetype": "text/x-python",
   "name": "python",
   "nbconvert_exporter": "python",
   "pygments_lexer": "ipython3",
   "version": "3.7.2"
  }
 },
 "nbformat": 4,
 "nbformat_minor": 2
}
