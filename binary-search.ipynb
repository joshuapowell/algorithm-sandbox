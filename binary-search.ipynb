{
 "cells": [
  {
   "cell_type": "code",
   "execution_count": null,
   "metadata": {},
   "outputs": [],
   "source": [
    "\"\"\"\n",
    "Binary Search Algorithm.\n",
    "\n",
    "\n",
    "Questions:\n",
    "\n",
    "    - How is linear search represented using Big O notation?\n",
    "    - How is binary search represented using Big O notation?\n",
    "    - How do I calculate the maximum worse case, given a maximum value?\n",
    "    \n",
    "    In this particular case for use \"base-2 logarithm of n\" or lg n\n",
    "\n",
    "\n",
    "Describe:\n",
    "\n",
    "    A guessing game, with a low number and high number, the computer sets\n",
    "    a random number from the lowest to highest number. To win the game you\n",
    "    must guess what the random number is chosen by the computer.\n",
    "\n",
    "    How do you find the number?\n",
    "\n",
    "       Assumptions: Minimum and maximum are integers.\n",
    "\n",
    "    1. Set a minimum and maximum variable.\n",
    "    2. If number entered is equal to random number, you win the game.\n",
    "    3. If the number guessed is less than the random number, set the minimum\n",
    "       value to one greater than the number guessed.\n",
    "    4. If the number guessed is greater than the random number, set the\n",
    "       maximum value to one lower than the number guessed.\n",
    "    5. Return to step 2 and repeat until the random number is matched.\n",
    "\n",
    "\"\"\"\n"
   ]
  },
  {
   "cell_type": "code",
   "execution_count": 3,
   "metadata": {},
   "outputs": [
    {
     "name": "stdout",
     "output_type": "stream",
     "text": [
      "Current guess 12\n",
      "Current guess 18\n",
      "Current guess 21\n",
      "Current guess 19\n",
      "Current guess 20\n",
      "It took 5 guess to find the target value\n",
      "Data [2, 3, 5, 7, 11, 13, 17, 19, 23, 29, 31, 37, 41, 43, 47, 53, 59, 61, 67, 71, 73, 79, 83, 89, 97]\n",
      "Found prime at index 20\n"
     ]
    }
   ],
   "source": [
    "import math\n",
    "\n",
    "primes =  [2, 3, 5, 7, 11, 13, 17, 19, 23, 29, 31, 37, 41, 43, 47, 53, 59, 61, 67, 71, 73, 79, 83, 89, 97]\n",
    "\n",
    "def doSearch(data, targetValue):\n",
    "\n",
    "    min_ = 0\n",
    "    max_ = len(data)-1\n",
    "    guess = None\n",
    "    guessCounter = 1\n",
    "\n",
    "    while max_ >= min_:\n",
    "\n",
    "        guess = int(math.floor((min_+max_)/2))\n",
    "        print(\"Current guess %s\" % guess)\n",
    "    \n",
    "        if data[guess] == targetValue:\n",
    "            print(\"It took %s guess to find the target value\" % (guessCounter))\n",
    "            return guess\n",
    "        elif data[guess] < targetValue:\n",
    "            min_ = guess + 1\n",
    "        elif data[guess] > targetValue:\n",
    "            max_ = guess - 1\n",
    "\n",
    "        guessCounter = guessCounter + 1\n",
    "\n",
    "result = doSearch(primes, 73)\n",
    "print(\"Found prime at index %s\" % result);"
   ]
  },
  {
   "cell_type": "code",
   "execution_count": 11,
   "metadata": {},
   "outputs": [
    {
     "name": "stderr",
     "output_type": "stream",
     "text": [
      "test_doSearchExample1 (__main__.TestNotebook) ... ok\n",
      "test_doSearchExample2 (__main__.TestNotebook) ... ok\n",
      "test_doSearchExample3 (__main__.TestNotebook) ... ok\n",
      "test_doSearchExample4 (__main__.TestNotebook) ... "
     ]
    },
    {
     "name": "stdout",
     "output_type": "stream",
     "text": [
      "Current guess 12\n",
      "Current guess 5\n",
      "Current guess 8\n",
      "It took 3 guess to find the target value\n",
      "Current guess 12\n",
      "Current guess 18\n",
      "Current guess 15\n",
      "It took 3 guess to find the target value\n",
      "Current guess 12\n",
      "Current guess 18\n",
      "Current guess 21\n",
      "Current guess 19\n",
      "Current guess 20\n",
      "It took 5 guess to find the target value\n",
      "Current guess 12\n",
      "Current guess 18\n",
      "Current guess 21\n",
      "Current guess 23\n",
      "It took 4 guess to find the target value\n"
     ]
    },
    {
     "name": "stderr",
     "output_type": "stream",
     "text": [
      "ok\n",
      "\n",
      "----------------------------------------------------------------------\n",
      "Ran 4 tests in 0.005s\n",
      "\n",
      "OK\n"
     ]
    },
    {
     "data": {
      "text/plain": [
       "<unittest.main.TestProgram at 0x10349ef60>"
      ]
     },
     "execution_count": 11,
     "metadata": {},
     "output_type": "execute_result"
    }
   ],
   "source": [
    "import math\n",
    "\n",
    "primes =  [2, 3, 5, 7, 11, 13, 17, 19, 23, 29, 31, 37, 41, 43, 47, 53, 59, 61, 67, 71, 73, 79, 83, 89, 97]\n",
    "\n",
    "def doSearch(data, targetValue):\n",
    "\n",
    "    min_ = 0\n",
    "    max_ = len(data)-1\n",
    "    guess = None\n",
    "    guessCounter = 1\n",
    "\n",
    "    while max_ >= min_:\n",
    "\n",
    "        guess = int(math.floor((min_+max_)/2))\n",
    "        print(\"Current guess %s\" % guess)\n",
    "    \n",
    "        if data[guess] == targetValue:\n",
    "            print(\"It took %s guess to find the target value\" % (guessCounter))\n",
    "            return guess\n",
    "        elif data[guess] < targetValue:\n",
    "            min_ = guess + 1\n",
    "        elif data[guess] > targetValue:\n",
    "            max_ = guess - 1\n",
    "\n",
    "        guessCounter = guessCounter + 1\n",
    "\n",
    "import unittest\n",
    "\n",
    "class TestNotebook(unittest.TestCase):\n",
    "\n",
    "    def test_doSearchExample1(self):\n",
    "        self.assertEqual(doSearch(primes, 23), 8)\n",
    "\n",
    "    def test_doSearchExample2(self):\n",
    "        self.assertEqual(doSearch(primes, 53), 15)\n",
    "\n",
    "    def test_doSearchExample3(self):\n",
    "        self.assertEqual(doSearch(primes, 73), 20)\n",
    "\n",
    "    def test_doSearchExample4(self):\n",
    "        self.assertEqual(doSearch(primes, 89), 23)\n",
    "\n",
    "\n",
    "unittest.main(argv=[''], verbosity=2, exit=False)"
   ]
  }
 ],
 "metadata": {
  "kernelspec": {
   "display_name": "Python 3",
   "language": "python",
   "name": "python3"
  },
  "language_info": {
   "codemirror_mode": {
    "name": "ipython",
    "version": 3
   },
   "file_extension": ".py",
   "mimetype": "text/x-python",
   "name": "python",
   "nbconvert_exporter": "python",
   "pygments_lexer": "ipython3",
   "version": "3.7.2"
  }
 },
 "nbformat": 4,
 "nbformat_minor": 2
}
