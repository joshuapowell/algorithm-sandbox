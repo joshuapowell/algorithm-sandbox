{
 "cells": [
  {
   "cell_type": "code",
   "execution_count": 2,
   "metadata": {},
   "outputs": [
    {
     "name": "stdout",
     "output_type": "stream",
     "text": [
      "Current guess 12\n",
      "Current guess 18\n",
      "Current guess 21\n",
      "Current guess 19\n",
      "Current guess 20\n",
      "It took 5 guess to find the target value\n"
     ]
    },
    {
     "ename": "NameError",
     "evalue": "name 'primes' is not defined",
     "output_type": "error",
     "traceback": [
      "\u001b[0;31m---------------------------------------------------------------------------\u001b[0m",
      "\u001b[0;31mNameError\u001b[0m                                 Traceback (most recent call last)",
      "\u001b[0;32m<ipython-input-2-2c22661ceb52>\u001b[0m in \u001b[0;36m<module>\u001b[0;34m\u001b[0m\n\u001b[1;32m     27\u001b[0m \u001b[0mtest\u001b[0m \u001b[0;34m=\u001b[0m \u001b[0mexample_1\u001b[0m\u001b[0;34m(\u001b[0m\u001b[0mstatic_primes\u001b[0m\u001b[0;34m,\u001b[0m \u001b[0;36m73\u001b[0m\u001b[0;34m)\u001b[0m\u001b[0;34m\u001b[0m\u001b[0;34m\u001b[0m\u001b[0m\n\u001b[1;32m     28\u001b[0m \u001b[0;34m\u001b[0m\u001b[0m\n\u001b[0;32m---> 29\u001b[0;31m \u001b[0mprint\u001b[0m\u001b[0;34m(\u001b[0m\u001b[0;34m\"Data %s\"\u001b[0m \u001b[0;34m%\u001b[0m \u001b[0mprimes\u001b[0m\u001b[0;34m)\u001b[0m\u001b[0;34m\u001b[0m\u001b[0;34m\u001b[0m\u001b[0m\n\u001b[0m\u001b[1;32m     30\u001b[0m \u001b[0mprint\u001b[0m\u001b[0;34m(\u001b[0m\u001b[0;34m\"Found prime at index %s\"\u001b[0m \u001b[0;34m%\u001b[0m \u001b[0mtest\u001b[0m\u001b[0;34m)\u001b[0m\u001b[0;34m\u001b[0m\u001b[0;34m\u001b[0m\u001b[0m\n",
      "\u001b[0;31mNameError\u001b[0m: name 'primes' is not defined"
     ]
    }
   ],
   "source": [
    "import math\n",
    "\n",
    "primes =  [2, 3, 5, 7, 11, 13, 17, 19, 23, 29, 31, 37, 41, 43, 47, 53, 59, 61, 67, 71, 73, 79, 83, 89, 97]\n",
    "\n",
    "def example_1(data, targetValue):\n",
    "\n",
    "    min_ = 0\n",
    "    max_ = len(data)-1\n",
    "    guess = None\n",
    "    guessCounter = 1\n",
    "\n",
    "    while max_ >= min_:\n",
    "\n",
    "        guess = int(math.floor((min_+max_)/2))\n",
    "        print(\"Current guess %s\" % guess)\n",
    "    \n",
    "        if data[guess] == targetValue:\n",
    "            print(\"It took %s guess to find the target value\" % (guessCounter))\n",
    "            return guess\n",
    "        elif data[guess] < targetValue:\n",
    "            min_ = guess + 1\n",
    "        elif data[guess] > targetValue:\n",
    "            max_ = guess - 1\n",
    "\n",
    "        guessCounter = guessCounter + 1\n",
    "\n",
    "test = example_1(primes, 73)\n",
    "\n",
    "print(\"Data %s\" % primes)\n",
    "print(\"Found prime at index %s\" % test)"
   ]
  },
  {
   "cell_type": "code",
   "execution_count": null,
   "metadata": {},
   "outputs": [],
   "source": []
  }
 ],
 "metadata": {
  "kernelspec": {
   "display_name": "Python 3",
   "language": "python",
   "name": "python3"
  },
  "language_info": {
   "codemirror_mode": {
    "name": "ipython",
    "version": 3
   },
   "file_extension": ".py",
   "mimetype": "text/x-python",
   "name": "python",
   "nbconvert_exporter": "python",
   "pygments_lexer": "ipython3",
   "version": "3.7.2"
  }
 },
 "nbformat": 4,
 "nbformat_minor": 2
}
