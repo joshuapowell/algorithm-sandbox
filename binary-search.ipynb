{
 "cells": [
  {
   "cell_type": "code",
   "execution_count": 3,
   "metadata": {},
   "outputs": [
    {
     "name": "stdout",
     "output_type": "stream",
     "text": [
      "Current guess 12\n",
      "Current guess 18\n",
      "Current guess 21\n",
      "Current guess 19\n",
      "Current guess 20\n",
      "It took 5 guess to find the target value\n",
      "Data [2, 3, 5, 7, 11, 13, 17, 19, 23, 29, 31, 37, 41, 43, 47, 53, 59, 61, 67, 71, 73, 79, 83, 89, 97]\n",
      "Found prime at index 20\n"
     ]
    }
   ],
   "source": [
    "import math\n",
    "\n",
    "primes =  [2, 3, 5, 7, 11, 13, 17, 19, 23, 29, 31, 37, 41, 43, 47, 53, 59, 61, 67, 71, 73, 79, 83, 89, 97]\n",
    "\n",
    "def example_1(data, targetValue):\n",
    "\n",
    "    min_ = 0\n",
    "    max_ = len(data)-1\n",
    "    guess = None\n",
    "    guessCounter = 1\n",
    "\n",
    "    while max_ >= min_:\n",
    "\n",
    "        guess = int(math.floor((min_+max_)/2))\n",
    "        print(\"Current guess %s\" % guess)\n",
    "    \n",
    "        if data[guess] == targetValue:\n",
    "            print(\"It took %s guess to find the target value\" % (guessCounter))\n",
    "            return guess\n",
    "        elif data[guess] < targetValue:\n",
    "            min_ = guess + 1\n",
    "        elif data[guess] > targetValue:\n",
    "            max_ = guess - 1\n",
    "\n",
    "        guessCounter = guessCounter + 1\n",
    "\n",
    "test = example_1(primes, 73)\n",
    "\n",
    "print(\"Data %s\" % primes)\n",
    "print(\"Found prime at index %s\" % test)"
   ]
  },
  {
   "cell_type": "code",
   "execution_count": null,
   "metadata": {},
   "outputs": [],
   "source": []
  }
 ],
 "metadata": {
  "kernelspec": {
   "display_name": "Python 3",
   "language": "python",
   "name": "python3"
  },
  "language_info": {
   "codemirror_mode": {
    "name": "ipython",
    "version": 3
   },
   "file_extension": ".py",
   "mimetype": "text/x-python",
   "name": "python",
   "nbconvert_exporter": "python",
   "pygments_lexer": "ipython3",
   "version": "3.7.2"
  }
 },
 "nbformat": 4,
 "nbformat_minor": 2
}
