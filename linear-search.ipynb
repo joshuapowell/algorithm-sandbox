{
 "cells": [
  {
   "cell_type": "code",
   "execution_count": 4,
   "metadata": {},
   "outputs": [
    {
     "name": "stdout",
     "output_type": "stream",
     "text": [
      "Current guess 2\n",
      "Current guess 3\n",
      "Current guess 5\n",
      "Current guess 7\n",
      "Current guess 11\n",
      "Current guess 13\n",
      "Current guess 17\n",
      "Current guess 19\n",
      "Current guess 23\n",
      "Current guess 29\n",
      "Current guess 31\n",
      "Current guess 37\n",
      "Current guess 41\n",
      "Current guess 43\n",
      "Current guess 47\n",
      "Current guess 53\n",
      "Current guess 59\n",
      "Current guess 61\n",
      "Current guess 67\n",
      "Current guess 71\n",
      "Current guess 73\n",
      "It took 21 guess to find the target value\n",
      "Found prime at index 73\n"
     ]
    }
   ],
   "source": [
    "import math\n",
    "\n",
    "primes =  [2, 3, 5, 7, 11, 13, 17, 19, 23, 29, 31, 37, 41, 43, 47, 53, 59, 61, 67, 71, 73, 79, 83, 89, 97]\n",
    "\n",
    "def doLinearSearch(data, targetValue):\n",
    "    \n",
    "    guessCounter = 1\n",
    "    \n",
    "    for guess in data:\n",
    "        print(\"Current guess %s\" % guess)\n",
    "        \n",
    "        if guess == targetValue:\n",
    "            print(\"It took %s guess to find the target value\" % (guessCounter))\n",
    "            return guess\n",
    "        \n",
    "        guessCounter = guessCounter+1\n",
    "    \n",
    "    return -1\n",
    "\n",
    "result = doLinearSearch(primes, 73)\n",
    "print(\"Found prime at index %s\" % result);"
   ]
  }
 ],
 "metadata": {
  "kernelspec": {
   "display_name": "Python 3",
   "language": "python",
   "name": "python3"
  },
  "language_info": {
   "codemirror_mode": {
    "name": "ipython",
    "version": 3
   },
   "file_extension": ".py",
   "mimetype": "text/x-python",
   "name": "python",
   "nbconvert_exporter": "python",
   "pygments_lexer": "ipython3",
   "version": "3.7.2"
  }
 },
 "nbformat": 4,
 "nbformat_minor": 2
}
